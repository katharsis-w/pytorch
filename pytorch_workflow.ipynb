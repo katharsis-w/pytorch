{
 "cells": [
  {
   "cell_type": "code",
   "execution_count": 1,
   "id": "2ecf6622-0fd8-464e-a4f3-6a05ea9b9006",
   "metadata": {},
   "outputs": [],
   "source": [
    "import torch\n",
    "from torch import nn\n",
    "from torch.utils.data import DataLoader\n",
    "from torchvision import datasets\n",
    "from torchvision.transforms import ToTensor"
   ]
  },
  {
   "cell_type": "markdown",
   "id": "384cd33f-877d-4436-822a-dd550e48c9f3",
   "metadata": {},
   "source": [
    "第一步：加载数据"
   ]
  },
  {
   "cell_type": "code",
   "execution_count": 2,
   "id": "a68c0745-74d7-4396-85c5-d8abb4388c89",
   "metadata": {},
   "outputs": [],
   "source": [
    "training_data  = datasets.FashionMNIST(\n",
    "    root = \"data\",\n",
    "    train=True,\n",
    "    download =True,\n",
    "    transform=ToTensor(),\n",
    ")\n",
    "\n",
    "test_data  = datasets.FashionMNIST(\n",
    "    root = \"data\",\n",
    "    train=False,\n",
    "    download =True,\n",
    "    transform=ToTensor(),\n",
    ")"
   ]
  },
  {
   "cell_type": "markdown",
   "id": "b3eb0612-9ec7-44f9-b9dd-d2f6eb8d7beb",
   "metadata": {},
   "source": [
    "创建数据集"
   ]
  },
  {
   "cell_type": "code",
   "execution_count": 3,
   "id": "ef3838e3-85dd-49eb-a3ca-38c0069ac101",
   "metadata": {},
   "outputs": [
    {
     "name": "stdout",
     "output_type": "stream",
     "text": [
      "Shape of X [N, C, H, W]: torch.Size([32, 1, 28, 28])\n",
      "Shape of y: torch.Size([32]) torch.int64\n"
     ]
    }
   ],
   "source": [
    "batch_size = 32\n",
    "# Create data loaders.\n",
    "train_dataloader = DataLoader(training_data, batch_size=batch_size)\n",
    "test_dataloader = DataLoader(test_data, batch_size=batch_size)\n",
    "for X, y in test_dataloader:\n",
    "    print(f\"Shape of X [N, C, H, W]: {X.shape}\")\n",
    "    print(f\"Shape of y: {y.shape} {y.dtype}\")\n",
    "    break"
   ]
  },
  {
   "cell_type": "markdown",
   "id": "8c16a3d7-1178-4349-9852-6ff6f067ec3c",
   "metadata": {},
   "source": [
    "第二步：创建模型"
   ]
  },
  {
   "cell_type": "code",
   "execution_count": 4,
   "id": "febaed39-0a2d-4878-9db7-a4632391dae0",
   "metadata": {},
   "outputs": [
    {
     "name": "stdout",
     "output_type": "stream",
     "text": [
      "Using cpu device\n",
      "NeuralNetwork(\n",
      "  (flatten): Flatten(start_dim=1, end_dim=-1)\n",
      "  (linear_relu_stack): Sequential(\n",
      "    (0): Linear(in_features=784, out_features=512, bias=True)\n",
      "    (1): ReLU()\n",
      "    (2): Linear(in_features=512, out_features=512, bias=True)\n",
      "    (3): ReLU()\n",
      "    (4): Linear(in_features=512, out_features=10, bias=True)\n",
      "  )\n",
      ")\n"
     ]
    }
   ],
   "source": [
    "device = torch.accelerator.current_accelerator().type if torch.accelerator.is_available() else \"cpu\"\n",
    "print(f\"Using {device} device\")\n",
    "\n",
    "# Define model\n",
    "class NeuralNetwork(nn.Module):\n",
    "    def __init__(self):\n",
    "        super().__init__()\n",
    "        self.flatten = nn.Flatten()\n",
    "        self.linear_relu_stack = nn.Sequential(\n",
    "            nn.Linear(28*28, 512),\n",
    "            nn.ReLU(),\n",
    "            nn.Linear(512, 512),\n",
    "            nn.ReLU(),\n",
    "            nn.Linear(512, 10)\n",
    "        )\n",
    "\n",
    "    def forward(self, x):\n",
    "        x = self.flatten(x)\n",
    "        logits = self.linear_relu_stack(x)\n",
    "        return logits\n",
    "\n",
    "model = NeuralNetwork().to(device)\n",
    "print(model)"
   ]
  },
  {
   "cell_type": "markdown",
   "id": "4bb4b0dd-e5c6-46b5-a1c6-34b4b66dbb5d",
   "metadata": {},
   "source": [
    "第三步：训练模型<br>\n",
    "创建损失函数和优化器<br>\n",
    "这里的损失函数的数学公式：$L = -\\log\\left(\\frac{\\exp(x_{\\text{class}})}{\\sum_j \\exp(x_j)}\\right)$"
   ]
  },
  {
   "cell_type": "code",
   "execution_count": 5,
   "id": "13dac31b-87c2-471c-b461-708ceb376e8c",
   "metadata": {},
   "outputs": [],
   "source": [
    "loss_fn = nn.CrossEntropyLoss()\n",
    "optimizer = torch.optim.SGD(model.parameters(), lr=1e-3)"
   ]
  },
  {
   "cell_type": "markdown",
   "id": "324506d1-a24d-44dd-b657-0249ca97daba",
   "metadata": {},
   "source": [
    "定义一个模型训练函数"
   ]
  },
  {
   "cell_type": "code",
   "execution_count": 6,
   "id": "ad442146-32d4-4783-8838-62d1fb49dda9",
   "metadata": {},
   "outputs": [],
   "source": [
    "def train(dataloader,model,loss_fn,optimzer):\n",
    "    size =len(dataloader.dataset)\n",
    "    model.train()\n",
    "    for batch,(x,y) in enumerate(dataloader):\n",
    "        # X,y = X.to(device),y.to(device)\n",
    "   \n",
    "        #前向传播\n",
    "        pred = model(X)\n",
    "        loss =loss_fn(pred,y)\n",
    "        \n",
    "        #反向传播\n",
    "        \n",
    "        loss.backward() #计算当前的梯度\n",
    "        optimizer.step() #更新参数\n",
    "        optimizer.zero_grad() #清空之前的梯度\n",
    "\n",
    "        if batch %100 == 0:\n",
    "            loss,current = loss.item(),(batch+1)*len(X)\n",
    "            print(f\"loss:{loss:>7f} [{current:>5d}/{size:>5d}]\")"
   ]
  },
  {
   "cell_type": "markdown",
   "id": "42f5569e-f576-4d3b-bc62-06d22b0f1b69",
   "metadata": {},
   "source": [
    "第四步：评估模型的性能<br>\n",
    "在测试集上评估模型的性能"
   ]
  },
  {
   "cell_type": "code",
   "execution_count": 7,
   "id": "2d7ba7b4-8f70-4140-b16f-c3487a7fab63",
   "metadata": {},
   "outputs": [],
   "source": [
    "def test(dataloader, model, loss_fn):\n",
    "    size = len(dataloader.dataset)\n",
    "    num_batches = len(dataloader)\n",
    "    model.eval()\n",
    "    test_loss, correct = 0, 0\n",
    "    with torch.no_grad():\n",
    "        for X, y in dataloader:\n",
    "            X, y = X.to(device), y.to(device)\n",
    "            pred = model(X)\n",
    "            test_loss += loss_fn(pred, y).item()\n",
    "            correct += (pred.argmax(1) == y).type(torch.float).sum().item()\n",
    "    test_loss /= num_batches\n",
    "    correct /= size\n",
    "    print(f\"Test Error: \\n Accuracy: {(100*correct):>0.1f}%, Avg loss: {test_loss:>8f} \\n\")"
   ]
  },
  {
   "cell_type": "code",
   "execution_count": 8,
   "id": "0ab80bbe-c1a4-4193-a23c-6023078bee18",
   "metadata": {},
   "outputs": [
    {
     "name": "stdout",
     "output_type": "stream",
     "text": [
      "Epoxh1\n",
      "--------------\n",
      "loss:2.301723 [   32/60000]\n",
      "loss:2.296839 [ 3232/60000]\n",
      "loss:2.310529 [ 6432/60000]\n",
      "loss:2.294062 [ 9632/60000]\n",
      "loss:2.309073 [12832/60000]\n",
      "loss:2.306443 [16032/60000]\n",
      "loss:2.307686 [19232/60000]\n",
      "loss:2.297992 [22432/60000]\n",
      "loss:2.299429 [25632/60000]\n",
      "loss:2.314402 [28832/60000]\n",
      "loss:2.308901 [32032/60000]\n",
      "loss:2.307748 [35232/60000]\n",
      "loss:2.298169 [38432/60000]\n",
      "loss:2.311879 [41632/60000]\n",
      "loss:2.300685 [44832/60000]\n",
      "loss:2.300408 [48032/60000]\n",
      "loss:2.298439 [51232/60000]\n",
      "loss:2.296381 [54432/60000]\n",
      "loss:2.290705 [57632/60000]\n",
      "Test Error: \n",
      " Accuracy: 6.0%, Avg loss: 2.310426 \n",
      "\n",
      "Epoxh2\n",
      "--------------\n",
      "loss:2.300835 [   32/60000]\n",
      "loss:2.296547 [ 3232/60000]\n",
      "loss:2.309724 [ 6432/60000]\n",
      "loss:2.299176 [ 9632/60000]\n",
      "loss:2.307570 [12832/60000]\n",
      "loss:2.301347 [16032/60000]\n",
      "loss:2.306018 [19232/60000]\n",
      "loss:2.301201 [22432/60000]\n",
      "loss:2.300141 [25632/60000]\n",
      "loss:2.307016 [28832/60000]\n",
      "loss:2.306643 [32032/60000]\n",
      "loss:2.302117 [35232/60000]\n",
      "loss:2.301242 [38432/60000]\n",
      "loss:2.308960 [41632/60000]\n",
      "loss:2.298783 [44832/60000]\n",
      "loss:2.298083 [48032/60000]\n",
      "loss:2.302088 [51232/60000]\n",
      "loss:2.293420 [54432/60000]\n",
      "loss:2.293613 [57632/60000]\n",
      "Test Error: \n",
      " Accuracy: 7.0%, Avg loss: 2.308815 \n",
      "\n",
      "Epoxh3\n",
      "--------------\n",
      "loss:2.301121 [   32/60000]\n",
      "loss:2.296602 [ 3232/60000]\n",
      "loss:2.309289 [ 6432/60000]\n",
      "loss:2.301410 [ 9632/60000]\n",
      "loss:2.306679 [12832/60000]\n",
      "loss:2.299887 [16032/60000]\n",
      "loss:2.305573 [19232/60000]\n",
      "loss:2.302201 [22432/60000]\n",
      "loss:2.300493 [25632/60000]\n",
      "loss:2.304176 [28832/60000]\n",
      "loss:2.306490 [32032/60000]\n",
      "loss:2.300352 [35232/60000]\n",
      "loss:2.302346 [38432/60000]\n",
      "loss:2.308208 [41632/60000]\n",
      "loss:2.298196 [44832/60000]\n",
      "loss:2.297267 [48032/60000]\n",
      "loss:2.303387 [51232/60000]\n",
      "loss:2.292186 [54432/60000]\n",
      "loss:2.294345 [57632/60000]\n",
      "Test Error: \n",
      " Accuracy: 7.9%, Avg loss: 2.308023 \n",
      "\n",
      "Epoxh4\n",
      "--------------\n",
      "loss:2.301286 [   32/60000]\n",
      "loss:2.296593 [ 3232/60000]\n",
      "loss:2.308777 [ 6432/60000]\n",
      "loss:2.302655 [ 9632/60000]\n",
      "loss:2.306003 [12832/60000]\n",
      "loss:2.299456 [16032/60000]\n",
      "loss:2.305444 [19232/60000]\n",
      "loss:2.302388 [22432/60000]\n",
      "loss:2.300596 [25632/60000]\n",
      "loss:2.302840 [28832/60000]\n",
      "loss:2.306930 [32032/60000]\n",
      "loss:2.299881 [35232/60000]\n",
      "loss:2.302806 [38432/60000]\n",
      "loss:2.308083 [41632/60000]\n",
      "loss:2.297988 [44832/60000]\n",
      "loss:2.296964 [48032/60000]\n",
      "loss:2.303839 [51232/60000]\n",
      "loss:2.291627 [54432/60000]\n",
      "loss:2.294335 [57632/60000]\n",
      "Test Error: \n",
      " Accuracy: 8.4%, Avg loss: 2.307530 \n",
      "\n",
      "Epoxh5\n",
      "--------------\n",
      "loss:2.301332 [   32/60000]\n",
      "loss:2.296601 [ 3232/60000]\n",
      "loss:2.308258 [ 6432/60000]\n",
      "loss:2.303572 [ 9632/60000]\n",
      "loss:2.305420 [12832/60000]\n",
      "loss:2.299405 [16032/60000]\n",
      "loss:2.305348 [19232/60000]\n",
      "loss:2.302308 [22432/60000]\n",
      "loss:2.300630 [25632/60000]\n",
      "loss:2.302048 [28832/60000]\n",
      "loss:2.307443 [32032/60000]\n",
      "loss:2.299839 [35232/60000]\n",
      "loss:2.303020 [38432/60000]\n",
      "loss:2.308180 [41632/60000]\n",
      "loss:2.297928 [44832/60000]\n",
      "loss:2.296810 [48032/60000]\n",
      "loss:2.304002 [51232/60000]\n",
      "loss:2.291307 [54432/60000]\n",
      "loss:2.294076 [57632/60000]\n",
      "Test Error: \n",
      " Accuracy: 8.8%, Avg loss: 2.307174 \n",
      "\n",
      "Done~!!!\n"
     ]
    }
   ],
   "source": [
    "epochs=5\n",
    "for t in range(epochs):\n",
    "    print(f\"Epoxh{t+1}\\n--------------\")\n",
    "    train(train_dataloader,model,loss_fn,optimizer)\n",
    "    test(test_dataloader,model,loss_fn)\n",
    "print(\"Done~!!!\")"
   ]
  },
  {
   "cell_type": "markdown",
   "id": "055f0c4a-f806-4641-ba6f-5c21069b334f",
   "metadata": {},
   "source": [
    "第五步：保存模型"
   ]
  },
  {
   "cell_type": "code",
   "execution_count": 9,
   "id": "d102eb08-23ef-4462-8be7-a4d99fb7feeb",
   "metadata": {},
   "outputs": [
    {
     "name": "stdout",
     "output_type": "stream",
     "text": [
      "Saved model\n"
     ]
    }
   ],
   "source": [
    "torch.save(model.state_dict(), \"model.pth\")\n",
    "print(\"Saved model\")"
   ]
  },
  {
   "cell_type": "markdown",
   "id": "19c1ae44-0ad0-4509-8fdf-8da905b5b44a",
   "metadata": {},
   "source": [
    "第六步：加载模型"
   ]
  },
  {
   "cell_type": "code",
   "execution_count": 10,
   "id": "0f1cd314-1e72-4158-bb02-acca9b6defb3",
   "metadata": {},
   "outputs": [
    {
     "data": {
      "text/plain": [
       "<All keys matched successfully>"
      ]
     },
     "execution_count": 10,
     "metadata": {},
     "output_type": "execute_result"
    }
   ],
   "source": [
    "model = NeuralNetwork().to(device)\n",
    "model.load_state_dict(torch.load(\"model.pth\",weights_only=True))"
   ]
  },
  {
   "cell_type": "markdown",
   "id": "bfbb8036-1ce5-4420-bd7b-510a11bba090",
   "metadata": {},
   "source": [
    "第七步：应用模型进行预测"
   ]
  },
  {
   "cell_type": "code",
   "execution_count": 11,
   "id": "4ecfd535-aefc-4d3a-8c9a-3615c6a83078",
   "metadata": {},
   "outputs": [
    {
     "name": "stdout",
     "output_type": "stream",
     "text": [
      "Predicted: \"T-shirt/top\", Actual: \"Ankle boot\"\n"
     ]
    }
   ],
   "source": [
    "classes = [\n",
    "    \"T-shirt/top\",\n",
    "    \"Trouser\",\n",
    "    \"Pullover\",\n",
    "    \"Dress\",\n",
    "    \"Coat\",\n",
    "    \"Sandal\",\n",
    "    \"Shirt\",\n",
    "    \"Sneaker\",\n",
    "    \"Bag\",\n",
    "    \"Ankle boot\",\n",
    "]\n",
    "\n",
    "model.eval()\n",
    "x, y = test_data[0][0], test_data[0][1]\n",
    "with torch.no_grad():\n",
    "    \n",
    "    x = x.to(device)\n",
    "    pred = model(x)\n",
    "    predicted, actual = classes[pred[0].argmax(0)], classes[y]\n",
    "    print(f'Predicted: \"{predicted}\", Actual: \"{actual}\"')"
   ]
  },
  {
   "cell_type": "code",
   "execution_count": null,
   "id": "93550947-f82a-4843-a391-77843405a486",
   "metadata": {},
   "outputs": [],
   "source": []
  }
 ],
 "metadata": {
  "kernelspec": {
   "display_name": "Python 3 (ipykernel)",
   "language": "python",
   "name": "python3"
  },
  "language_info": {
   "codemirror_mode": {
    "name": "ipython",
    "version": 3
   },
   "file_extension": ".py",
   "mimetype": "text/x-python",
   "name": "python",
   "nbconvert_exporter": "python",
   "pygments_lexer": "ipython3",
   "version": "3.11.13"
  }
 },
 "nbformat": 4,
 "nbformat_minor": 5
}
